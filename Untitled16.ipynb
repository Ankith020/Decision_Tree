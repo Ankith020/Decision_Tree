{
  "nbformat": 4,
  "nbformat_minor": 0,
  "metadata": {
    "colab": {
      "provenance": [],
      "authorship_tag": "ABX9TyM/XhYXxN3UtpIBQWNqR3W4",
      "include_colab_link": true
    },
    "kernelspec": {
      "name": "python3",
      "display_name": "Python 3"
    },
    "language_info": {
      "name": "python"
    }
  },
  "cells": [
    {
      "cell_type": "markdown",
      "metadata": {
        "id": "view-in-github",
        "colab_type": "text"
      },
      "source": [
        "<a href=\"https://colab.research.google.com/github/Ankith020/Decision_Tree/blob/main/Untitled16.ipynb\" target=\"_parent\"><img src=\"https://colab.research.google.com/assets/colab-badge.svg\" alt=\"Open In Colab\"/></a>"
      ]
    },
    {
      "cell_type": "code",
      "execution_count": 1,
      "metadata": {
        "id": "-YJYmwaY3oaG"
      },
      "outputs": [],
      "source": [
        "# Step 1: Import Required Libraries\n",
        "from sklearn.datasets import load_iris\n",
        "from sklearn.model_selection import train_test_split\n",
        "from sklearn.preprocessing import StandardScaler\n",
        "from sklearn.tree import DecisionTreeClassifier\n",
        "from sklearn.metrics import classification_report"
      ]
    },
    {
      "cell_type": "code",
      "source": [
        "# Step 2: Data Loader Class\n",
        "class DataLoader:\n",
        "    def __init__(self):\n",
        "        self.X, self.y = load_iris(return_X_y=True)\n",
        "    def split(self, test_size=0.3, random_state=42):\n",
        "        return train_test_split(self.X, self.y, test_size=test_size,\n",
        "random_state=random_state)"
      ],
      "metadata": {
        "id": "WYnqwCRE3tK3"
      },
      "execution_count": 2,
      "outputs": []
    },
    {
      "cell_type": "code",
      "source": [
        "# Step 3: Preprocessor Class\n",
        "class Preprocessor:\n",
        "    def __init__(self):\n",
        "        self.scaler = StandardScaler()\n",
        "    def fit_transform(self, X_train):\n",
        "        return self.scaler.fit_transform(X_train)\n",
        "    def transform(self, X_test):\n",
        "        return self.scaler.transform(X_test)"
      ],
      "metadata": {
        "id": "6687shUn4YWH"
      },
      "execution_count": 3,
      "outputs": []
    },
    {
      "cell_type": "code",
      "source": [
        "# Step 4: ML Model Class\n",
        "class MLModel:\n",
        "    def __init__(self):\n",
        "        self.model = DecisionTreeClassifier()\n",
        "    def train(self, X_train, y_train):\n",
        "        self.model.fit(X_train, y_train)\n",
        "    def predict(self, X_test):\n",
        "        return self.model.predict(X_test)"
      ],
      "metadata": {
        "id": "llK_umO_4twl"
      },
      "execution_count": 4,
      "outputs": []
    },
    {
      "cell_type": "code",
      "source": [
        "# Step 5: Evaluator Class\n",
        "class Evaluator:\n",
        "    def __init__(self, y_true, y_pred):\n",
        "        self.y_true = y_true\n",
        "        self.y_pred = y_pred\n",
        "\n",
        "    def report(self):\n",
        "        print(\"Classification Report:\\n\")\n",
        "        print(classification_report(self.y_true, self.y_pred))"
      ],
      "metadata": {
        "id": "35s_EDuR5AJ3"
      },
      "execution_count": 7,
      "outputs": []
    },
    {
      "cell_type": "code",
      "source": [
        "# Step 6: Main ML Application Class\n",
        "class MLApplication:\n",
        "    def __init__(self):\n",
        "        self.loader = DataLoader()\n",
        "        self.preprocessor = Preprocessor()\n",
        "        self.model = MLModel()\n",
        "\n",
        "    def run(self):\n",
        "\n",
        "        # Load and split data\n",
        "        X_train, X_test, y_train, y_test = self.loader.split()\n",
        "\n",
        "        # Preprocess data\n",
        "        X_train_scaled = self.preprocessor.fit_transform(X_train)\n",
        "        X_test_scaled = self.preprocessor.transform(X_test)\n",
        "\n",
        "        # Train model\n",
        "        self.model.train(X_train_scaled, y_train)\n",
        "        y_pred = self.model.predict(X_test_scaled)\n",
        "\n",
        "        # Evaluate\n",
        "        evaluator = Evaluator(y_test, y_pred)\n",
        "        evaluator.report()"
      ],
      "metadata": {
        "id": "0zJJ2u_C5wuF"
      },
      "execution_count": 11,
      "outputs": []
    },
    {
      "cell_type": "code",
      "source": [
        "# Step 7: Execute the Pipeline\n",
        "app = MLApplication()\n",
        "app.run()"
      ],
      "metadata": {
        "colab": {
          "base_uri": "https://localhost:8080/"
        },
        "id": "VQGHKzEp6ot9",
        "outputId": "6228d0ee-854e-400d-e4d5-0f52296e821c"
      },
      "execution_count": 12,
      "outputs": [
        {
          "output_type": "stream",
          "name": "stdout",
          "text": [
            "Classification Report:\n",
            "\n",
            "              precision    recall  f1-score   support\n",
            "\n",
            "           0       1.00      1.00      1.00        19\n",
            "           1       1.00      1.00      1.00        13\n",
            "           2       1.00      1.00      1.00        13\n",
            "\n",
            "    accuracy                           1.00        45\n",
            "   macro avg       1.00      1.00      1.00        45\n",
            "weighted avg       1.00      1.00      1.00        45\n",
            "\n"
          ]
        }
      ]
    },
    {
      "cell_type": "code",
      "source": [
        "# Step 1: Import Required Libraries\n",
        "from sklearn.datasets import load_iris\n",
        "from sklearn.model_selection import train_test_split\n",
        "from sklearn.preprocessing import StandardScaler\n",
        "from sklearn.tree import DecisionTreeClassifier\n",
        "from sklearn.metrics import classification_report"
      ],
      "metadata": {
        "id": "Y6E6gU_i8ImI"
      },
      "execution_count": 13,
      "outputs": []
    },
    {
      "cell_type": "code",
      "source": [
        "# Step 2: Data Loader Class\n",
        "class DataLoader:\n",
        "    def __init__(self):\n",
        "        self.X, self.y = load_iris(return_X_y=True)\n",
        "\n",
        "    def split(self, test_size=0.3, random_state=42):\n",
        "        return train_test_split(self.X, self.y, test_size=test_size, random_state=random_state)\n"
      ],
      "metadata": {
        "id": "JlCU1HiR8J7f"
      },
      "execution_count": 14,
      "outputs": []
    },
    {
      "cell_type": "code",
      "source": [
        "# Step 3: Preprocessor Class\n",
        "class Preprocessor:\n",
        "    def __init__(self):\n",
        "        self.scaler = StandardScaler()\n",
        "\n",
        "    def fit_transform(self, X_train):\n",
        "        return self.scaler.fit_transform(X_train)\n",
        "\n",
        "    def transform(self, X_test):\n",
        "        return self.scaler.transform(X_test)"
      ],
      "metadata": {
        "id": "o4ycRxYT8NKh"
      },
      "execution_count": 15,
      "outputs": []
    },
    {
      "cell_type": "code",
      "source": [
        "# Step 4: Base ML Model Class (Using Inheritance)\n",
        "class BaseModel:\n",
        "    def __init__(self):\n",
        "        self.model = None  # To be defined in derived class\n",
        "\n",
        "    def train(self, X_train, y_train):\n",
        "        self.model.fit(X_train, y_train)\n",
        "\n",
        "    def predict(self, X_test):\n",
        "        return self.model.predict(X_test)\n",
        "\n",
        "# Step 4.1: Decision Tree Model (Inherited from BaseModel)\n",
        "class DecisionTreeModel(BaseModel):\n",
        "    def __init__(self):\n",
        "        super().__init__()\n",
        "        self.model = DecisionTreeClassifier()"
      ],
      "metadata": {
        "id": "DNDp6Kr-8Uw2"
      },
      "execution_count": 16,
      "outputs": []
    },
    {
      "cell_type": "code",
      "source": [
        "# Step 5: Evaluator Class\n",
        "class Evaluator:\n",
        "    def __init__(self, y_true, y_pred):\n",
        "        self.y_true = y_true\n",
        "        self.y_pred = y_pred\n",
        "\n",
        "    def report(self):\n",
        "        print(\"\\n📊 Classification Report:\\n\")\n",
        "        print(classification_report(self.y_true, self.y_pred))\n"
      ],
      "metadata": {
        "id": "XNwOhFHg8la0"
      },
      "execution_count": 17,
      "outputs": []
    },
    {
      "cell_type": "code",
      "source": [
        "# Step 6: Main ML Application Class\n",
        "class MLApplication:\n",
        "    def __init__(self):\n",
        "        self.loader = DataLoader()\n",
        "        self.preprocessor = Preprocessor()\n",
        "        self.model = DecisionTreeModel()  # Just change to another subclass to test other models\n",
        "\n",
        "    def run(self):\n",
        "        # Load and split data\n",
        "        X_train, X_test, y_train, y_test = self.loader.split()\n",
        "\n",
        "        # Preprocess data\n",
        "        X_train_scaled = self.preprocessor.fit_transform(X_train)\n",
        "        X_test_scaled = self.preprocessor.transform(X_test)\n",
        "\n",
        "        # Train model\n",
        "        self.model.train(X_train_scaled, y_train)\n",
        "        y_pred = self.model.predict(X_test_scaled)\n",
        "\n",
        "        # Evaluate\n",
        "        evaluator = Evaluator(y_test, y_pred)\n",
        "        evaluator.report()"
      ],
      "metadata": {
        "id": "Vszx_ACJ8qaO"
      },
      "execution_count": 18,
      "outputs": []
    },
    {
      "cell_type": "code",
      "source": [
        "# Step 7: Execute the Pipeline\n",
        "app = MLApplication()\n",
        "app.run()"
      ],
      "metadata": {
        "colab": {
          "base_uri": "https://localhost:8080/"
        },
        "id": "YLNb5kqt8u5A",
        "outputId": "d4d23dd7-4775-4309-9b43-c487745cc7e1"
      },
      "execution_count": 19,
      "outputs": [
        {
          "output_type": "stream",
          "name": "stdout",
          "text": [
            "\n",
            "📊 Classification Report:\n",
            "\n",
            "              precision    recall  f1-score   support\n",
            "\n",
            "           0       1.00      1.00      1.00        19\n",
            "           1       1.00      1.00      1.00        13\n",
            "           2       1.00      1.00      1.00        13\n",
            "\n",
            "    accuracy                           1.00        45\n",
            "   macro avg       1.00      1.00      1.00        45\n",
            "weighted avg       1.00      1.00      1.00        45\n",
            "\n"
          ]
        }
      ]
    }
  ]
}